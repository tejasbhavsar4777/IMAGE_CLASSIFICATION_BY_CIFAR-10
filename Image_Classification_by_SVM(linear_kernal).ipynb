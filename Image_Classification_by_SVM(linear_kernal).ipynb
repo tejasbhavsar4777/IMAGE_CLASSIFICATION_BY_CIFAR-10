{
  "nbformat": 4,
  "nbformat_minor": 0,
  "metadata": {
    "colab": {
      "provenance": []
    },
    "kernelspec": {
      "name": "python3",
      "display_name": "Python 3"
    },
    "language_info": {
      "name": "python"
    }
  },
  "cells": [
    {
      "cell_type": "markdown",
      "source": [
        "**BEST MODEL (LINEAR KERNEL WITH C=0.1)**"
      ],
      "metadata": {
        "id": "Dn4y6eWP_U6V"
      }
    },
    {
      "cell_type": "code",
      "execution_count": null,
      "metadata": {
        "id": "In1YwjBri1-V"
      },
      "outputs": [],
      "source": [
        "from keras.datasets import cifar10\n",
        "import numpy as np\n"
      ]
    },
    {
      "cell_type": "code",
      "source": [
        "classesName = ['plane', 'car', 'bird', 'cat', 'deer', 'dog', 'frog', 'horse', 'ship', 'truck']\n",
        "(x_train, y_train), (x_test, y_test) = cifar10.load_data()\n",
        "x_val = x_train[49000:, :].astype(float) # Use float instead of np.float\n",
        "y_val = np.squeeze(y_train[49000:, :])\n",
        "x_train = x_train[:49000, :].astype(float) # Use float instead of np.float\n",
        "y_train = np.squeeze(y_train[:49000, :])\n",
        "y_test = np.squeeze(y_test)\n",
        "x_test = x_test.astype(float) # Use float instead of np.float"
      ],
      "metadata": {
        "id": "tgo5THFhj_32"
      },
      "execution_count": null,
      "outputs": []
    },
    {
      "cell_type": "code",
      "source": [
        "print(x_train.shape)\n",
        "print(y_train.shape)\n",
        "x_train = np.reshape(x_train, (x_train.shape[0], -1)) # The -1 means that the corresponding dimension is calculated from the other given dimensions.\n",
        "xVal = np.reshape(x_val, (x_val.shape[0], -1))\n",
        "xTest = np.reshape(x_test, (x_test.shape[0], -1))\n",
        "print(x_train.shape)\n",
        "print(x_train[0])\n",
        "\n",
        "#Normalize\n",
        "xTrain=((xTrain/255)*2)-1\n",
        "print(xTrain.shape)\n",
        "print(xTrain[0])"
      ],
      "metadata": {
        "colab": {
          "base_uri": "https://localhost:8080/"
        },
        "id": "CtPphMlvkDYQ",
        "outputId": "3eaa9171-edfa-4c23-dbe1-e38dfe7d21b6"
      },
      "execution_count": null,
      "outputs": [
        {
          "output_type": "stream",
          "name": "stdout",
          "text": [
            "(49000, 3072)\n",
            "(49000,)\n",
            "(49000, 3072)\n",
            "[ 59.  62.  63. ... 123.  92.  72.]\n",
            "(50000, 32, 32, 3)\n",
            "[[[-1.00421376 -1.00402922 -1.0039677 ]\n",
            "  [-1.005198   -1.00501346 -1.00507497]\n",
            "  [-1.0047674  -1.00489043 -1.005198  ]\n",
            "  ...\n",
            "  [-0.9981238  -0.99972318 -1.00119954]\n",
            "  [-0.99849289 -1.00015379 -1.00156863]\n",
            "  [-0.99873895 -1.0002153  -1.00150711]]\n",
            "\n",
            " [[-1.0068589  -1.00661284 -1.00661284]\n",
            "  [-1.00784314 -1.00784314 -1.00784314]\n",
            "  [-1.00673587 -1.00735102 -1.00784314]\n",
            "  ...\n",
            "  [-1.00027682 -1.00242983 -1.00445982]\n",
            "  [-1.00052288 -1.00273741 -1.0047674 ]\n",
            "  [-1.00033833 -1.00249135 -1.00433679]]\n",
            "\n",
            " [[-1.00630527 -1.00636678 -1.00655133]\n",
            "  [-1.0068589  -1.00741253 -1.00784314]\n",
            "  [-1.00482891 -1.00618224 -1.00735102]\n",
            "  ...\n",
            "  [-1.00058439 -1.00267589 -1.0047674 ]\n",
            "  [-1.00046136 -1.00267589 -1.0047674 ]\n",
            "  [-1.00113802 -1.00335256 -1.00525952]]\n",
            "\n",
            " ...\n",
            "\n",
            " [[-0.99504806 -0.99738562 -1.00193772]\n",
            "  [-0.99547866 -0.99843137 -1.00575163]\n",
            "  [-0.99566321 -0.99793925 -1.00624375]\n",
            "  ...\n",
            "  [-0.99800077 -0.99966167 -1.0035371 ]\n",
            "  [-1.00439831 -1.00593618 -1.00741253]\n",
            "  [-1.00458285 -1.00575163 -1.00661284]]\n",
            "\n",
            " [[-0.99677047 -0.99929258 -1.00193772]\n",
            "  [-0.99720108 -1.00027682 -1.00525952]\n",
            "  [-0.99640138 -0.99898501 -1.00599769]\n",
            "  ...\n",
            "  [-0.99652441 -0.99873895 -1.00206075]\n",
            "  [-1.0018762  -1.00402922 -1.00575163]\n",
            "  [-1.00273741 -1.00458285 -1.00575163]]\n",
            "\n",
            " [[-0.99695502 -0.99898501 -1.00070742]\n",
            "  [-0.99750865 -0.99990773 -1.00206075]\n",
            "  [-0.99683199 -0.99910804 -1.00249135]\n",
            "  ...\n",
            "  [-0.99455594 -0.99652441 -0.99923106]\n",
            "  [-0.9985544  -1.00058439 -1.00267589]\n",
            "  [-1.00027682 -1.00218378 -1.00341407]]]\n"
          ]
        }
      ]
    },
    {
      "cell_type": "markdown",
      "source": [
        "**SVM Linear Kernal with C=0.1.**"
      ],
      "metadata": {
        "id": "tYa1OSbU_iUR"
      }
    },
    {
      "cell_type": "code",
      "source": [
        "x_train = x_train[:10000,:]\n",
        "y_train = y_train[:10000]\n",
        "print(y_train)\n",
        "print(x_train.shape)\n",
        "print(y_train.shape)\n",
        "from sklearn import svm\n",
        "svc = svm.SVC(probability = False,kernel='linear', C=0.1)\n",
        "svc.fit(x_train, y_train)"
      ],
      "metadata": {
        "colab": {
          "base_uri": "https://localhost:8080/",
          "height": 126
        },
        "id": "VWEgZqgxlqT3",
        "outputId": "581eb20c-ad08-45ae-d028-a8f5a430a9f8"
      },
      "execution_count": null,
      "outputs": [
        {
          "output_type": "stream",
          "name": "stdout",
          "text": [
            "[6 9 9 ... 1 1 5]\n",
            "(10000, 3072)\n",
            "(10000,)\n"
          ]
        },
        {
          "output_type": "execute_result",
          "data": {
            "text/plain": [
              "SVC(C=0.1, kernel='linear')"
            ],
            "text/html": [
              "<style>#sk-container-id-1 {color: black;}#sk-container-id-1 pre{padding: 0;}#sk-container-id-1 div.sk-toggleable {background-color: white;}#sk-container-id-1 label.sk-toggleable__label {cursor: pointer;display: block;width: 100%;margin-bottom: 0;padding: 0.3em;box-sizing: border-box;text-align: center;}#sk-container-id-1 label.sk-toggleable__label-arrow:before {content: \"▸\";float: left;margin-right: 0.25em;color: #696969;}#sk-container-id-1 label.sk-toggleable__label-arrow:hover:before {color: black;}#sk-container-id-1 div.sk-estimator:hover label.sk-toggleable__label-arrow:before {color: black;}#sk-container-id-1 div.sk-toggleable__content {max-height: 0;max-width: 0;overflow: hidden;text-align: left;background-color: #f0f8ff;}#sk-container-id-1 div.sk-toggleable__content pre {margin: 0.2em;color: black;border-radius: 0.25em;background-color: #f0f8ff;}#sk-container-id-1 input.sk-toggleable__control:checked~div.sk-toggleable__content {max-height: 200px;max-width: 100%;overflow: auto;}#sk-container-id-1 input.sk-toggleable__control:checked~label.sk-toggleable__label-arrow:before {content: \"▾\";}#sk-container-id-1 div.sk-estimator input.sk-toggleable__control:checked~label.sk-toggleable__label {background-color: #d4ebff;}#sk-container-id-1 div.sk-label input.sk-toggleable__control:checked~label.sk-toggleable__label {background-color: #d4ebff;}#sk-container-id-1 input.sk-hidden--visually {border: 0;clip: rect(1px 1px 1px 1px);clip: rect(1px, 1px, 1px, 1px);height: 1px;margin: -1px;overflow: hidden;padding: 0;position: absolute;width: 1px;}#sk-container-id-1 div.sk-estimator {font-family: monospace;background-color: #f0f8ff;border: 1px dotted black;border-radius: 0.25em;box-sizing: border-box;margin-bottom: 0.5em;}#sk-container-id-1 div.sk-estimator:hover {background-color: #d4ebff;}#sk-container-id-1 div.sk-parallel-item::after {content: \"\";width: 100%;border-bottom: 1px solid gray;flex-grow: 1;}#sk-container-id-1 div.sk-label:hover label.sk-toggleable__label {background-color: #d4ebff;}#sk-container-id-1 div.sk-serial::before {content: \"\";position: absolute;border-left: 1px solid gray;box-sizing: border-box;top: 0;bottom: 0;left: 50%;z-index: 0;}#sk-container-id-1 div.sk-serial {display: flex;flex-direction: column;align-items: center;background-color: white;padding-right: 0.2em;padding-left: 0.2em;position: relative;}#sk-container-id-1 div.sk-item {position: relative;z-index: 1;}#sk-container-id-1 div.sk-parallel {display: flex;align-items: stretch;justify-content: center;background-color: white;position: relative;}#sk-container-id-1 div.sk-item::before, #sk-container-id-1 div.sk-parallel-item::before {content: \"\";position: absolute;border-left: 1px solid gray;box-sizing: border-box;top: 0;bottom: 0;left: 50%;z-index: -1;}#sk-container-id-1 div.sk-parallel-item {display: flex;flex-direction: column;z-index: 1;position: relative;background-color: white;}#sk-container-id-1 div.sk-parallel-item:first-child::after {align-self: flex-end;width: 50%;}#sk-container-id-1 div.sk-parallel-item:last-child::after {align-self: flex-start;width: 50%;}#sk-container-id-1 div.sk-parallel-item:only-child::after {width: 0;}#sk-container-id-1 div.sk-dashed-wrapped {border: 1px dashed gray;margin: 0 0.4em 0.5em 0.4em;box-sizing: border-box;padding-bottom: 0.4em;background-color: white;}#sk-container-id-1 div.sk-label label {font-family: monospace;font-weight: bold;display: inline-block;line-height: 1.2em;}#sk-container-id-1 div.sk-label-container {text-align: center;}#sk-container-id-1 div.sk-container {/* jupyter's `normalize.less` sets `[hidden] { display: none; }` but bootstrap.min.css set `[hidden] { display: none !important; }` so we also need the `!important` here to be able to override the default hidden behavior on the sphinx rendered scikit-learn.org. See: https://github.com/scikit-learn/scikit-learn/issues/21755 */display: inline-block !important;position: relative;}#sk-container-id-1 div.sk-text-repr-fallback {display: none;}</style><div id=\"sk-container-id-1\" class=\"sk-top-container\"><div class=\"sk-text-repr-fallback\"><pre>SVC(C=0.1, kernel=&#x27;linear&#x27;)</pre><b>In a Jupyter environment, please rerun this cell to show the HTML representation or trust the notebook. <br />On GitHub, the HTML representation is unable to render, please try loading this page with nbviewer.org.</b></div><div class=\"sk-container\" hidden><div class=\"sk-item\"><div class=\"sk-estimator sk-toggleable\"><input class=\"sk-toggleable__control sk-hidden--visually\" id=\"sk-estimator-id-1\" type=\"checkbox\" checked><label for=\"sk-estimator-id-1\" class=\"sk-toggleable__label sk-toggleable__label-arrow\">SVC</label><div class=\"sk-toggleable__content\"><pre>SVC(C=0.1, kernel=&#x27;linear&#x27;)</pre></div></div></div></div></div>"
            ]
          },
          "metadata": {},
          "execution_count": 11
        }
      ]
    },
    {
      "cell_type": "markdown",
      "source": [
        "**Train and Test accuracy of SVM Model.**"
      ],
      "metadata": {
        "id": "Q9JrLxWW_6Oi"
      }
    },
    {
      "cell_type": "code",
      "source": [
        "Yhat_svc_linear_train = svc.predict(x_train)\n",
        "acc_train = np.mean(Yhat_svc_linear_train == y_train)\n",
        "print('Train Accuracy = {0:f}'.format(acc_train))\n",
        "\n",
        "print(\"#=============================================\")\n",
        "\n",
        "# The x_val array needs to be reshaped\n",
        "x_val = np.reshape(x_val, (x_val.shape[0], -1))\n",
        "Yhat_svc_linear_test = svc.predict(x_val)\n",
        "acc_test = np.mean(Yhat_svc_linear_test == y_val)\n",
        "print('Test Accuracy = {0:f}'.format(acc_test))"
      ],
      "metadata": {
        "colab": {
          "base_uri": "https://localhost:8080/"
        },
        "id": "Mj8P59ganrNH",
        "outputId": "fdeec6d4-37b1-477e-f123-fcbb2ee23e75"
      },
      "execution_count": null,
      "outputs": [
        {
          "output_type": "stream",
          "name": "stdout",
          "text": [
            "Train Accuracy = 1.000000\n",
            "#=============================================\n",
            "Test Accuracy = 0.306000\n"
          ]
        }
      ]
    }
  ]
}